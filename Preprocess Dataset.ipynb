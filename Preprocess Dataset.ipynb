{
 "cells": [
  {
   "cell_type": "code",
   "execution_count": 1,
   "metadata": {},
   "outputs": [],
   "source": [
    "import sys, os, time\n",
    "import numpy as np\n",
    "import cv2\n",
    "import scipy.io"
   ]
  },
  {
   "cell_type": "markdown",
   "metadata": {},
   "source": [
    "## Preprocess Images"
   ]
  },
  {
   "cell_type": "code",
   "execution_count": 2,
   "metadata": {},
   "outputs": [],
   "source": [
    "path = 'ILSVRC2012'\n",
    "fns = os.listdir(path+'/ILSVRC2012_img_val')\n",
    "fns.sort()\n",
    "fns = [path + '/ILSVRC2012_img_val/' + fn for fn in fns]"
   ]
  },
  {
   "cell_type": "code",
   "execution_count": 3,
   "metadata": {},
   "outputs": [
    {
     "name": "stdout",
     "output_type": "stream",
     "text": [
      "10000/50000\n",
      "20000/50000\n",
      "30000/50000\n",
      "40000/50000\n",
      "50000/50000\n",
      "CPU times: user 13min 53s, sys: 1min 59s, total: 15min 52s\n",
      "Wall time: 41min 56s\n"
     ]
    }
   ],
   "source": [
    "%%time\n",
    "x_val = np.zeros((len(fns)//5, 227, 227, 3), dtype=np.float32)\n",
    "for i in range(len(fns)):\n",
    "    \n",
    "    # Load (as BGR)\n",
    "    img = cv2.imread(fns[i])\n",
    "    \n",
    "    # Resize\n",
    "    height, width, _ = img.shape\n",
    "    new_height = height * 256 // min(img.shape[:2])\n",
    "    new_width = width * 256 // min(img.shape[:2])\n",
    "    img = cv2.resize(img, (new_width, new_height), interpolation=cv2.INTER_CUBIC)\n",
    "    \n",
    "    # Crop\n",
    "    height, width, _ = img.shape\n",
    "    startx = width//2 - (227//2)\n",
    "    starty = height//2 - (227//2)\n",
    "    img = img[starty:starty+227,startx:startx+227]\n",
    "\n",
    "    x_val[i-i//10000*10000,:,:,:] = img[:,:,::-1]\n",
    "    \n",
    "    if (i+1) %10000 == 0:\n",
    "        np.save(path+'/'+'val_'+str(i+1)+'.npy', x_val)\n",
    "        x_val = np.zeros((len(fns)//5, 227, 227, 3), dtype=np.float32)\n",
    "        print(\"%d/%d\" % (i+1, len(fns)))"
   ]
  },
  {
   "cell_type": "markdown",
   "metadata": {},
   "source": [
    "## Mapping labels"
   ]
  },
  {
   "cell_type": "code",
   "execution_count": 4,
   "metadata": {},
   "outputs": [],
   "source": [
    "meta = scipy.io.loadmat(path+'/data/meta.mat')"
   ]
  },
  {
   "cell_type": "code",
   "execution_count": 5,
   "metadata": {},
   "outputs": [],
   "source": [
    "original_idx_to_synset = {}\n",
    "synset_to_name = {}\n",
    "\n",
    "for i in range(1000):\n",
    "    ilsvrc2012_id = int(meta[\"synsets\"][i,0][0][0][0])\n",
    "    synset = meta[\"synsets\"][i,0][1][0]\n",
    "    name = meta[\"synsets\"][i,0][2][0]\n",
    "    original_idx_to_synset[ilsvrc2012_id] = synset\n",
    "    synset_to_name[synset] = name\n",
    "\n",
    "synset_to_keras_idx = {}\n",
    "keras_idx_to_name = {}\n",
    "f = open(path+\"/data/synset_words.txt\",\"r\")\n",
    "idx = 0\n",
    "for line in f:\n",
    "    parts = line.split(\" \")\n",
    "    synset_to_keras_idx[parts[0]] = idx\n",
    "    keras_idx_to_name[idx] = \" \".join(parts[1:])\n",
    "    idx += 1\n",
    "f.close()\n",
    "\n",
    "def convert_original_idx_to_keras_idx(idx):\n",
    "    return synset_to_keras_idx[original_idx_to_synset[idx]]"
   ]
  },
  {
   "cell_type": "code",
   "execution_count": 6,
   "metadata": {},
   "outputs": [],
   "source": [
    "f = open(path+\"/data/ILSVRC2012_validation_ground_truth.txt\",\"r\")\n",
    "y_val = f.read().strip().split(\"\\n\")\n",
    "y_val = list(map(int, y_val))\n",
    "y_val = np.array([convert_original_idx_to_keras_idx(idx) for idx in y_val])\n",
    "f.close()"
   ]
  },
  {
   "cell_type": "code",
   "execution_count": 7,
   "metadata": {},
   "outputs": [],
   "source": [
    "np.save(path+\"/y_val.npy\", y_val)"
   ]
  },
  {
   "cell_type": "code",
   "execution_count": null,
   "metadata": {},
   "outputs": [],
   "source": []
  }
 ],
 "metadata": {
  "kernelspec": {
   "display_name": "Python 3",
   "language": "python",
   "name": "python3"
  },
  "language_info": {
   "codemirror_mode": {
    "name": "ipython",
    "version": 3
   },
   "file_extension": ".py",
   "mimetype": "text/x-python",
   "name": "python",
   "nbconvert_exporter": "python",
   "pygments_lexer": "ipython3",
   "version": "3.6.3"
  }
 },
 "nbformat": 4,
 "nbformat_minor": 2
}
